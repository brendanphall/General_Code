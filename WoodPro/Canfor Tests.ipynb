{
 "cells": [
  {
   "cell_type": "code",
   "execution_count": null,
   "id": "initial_id",
   "metadata": {
    "collapsed": true
   },
   "outputs": [],
   "source": [
    ""
   ]
  },
  {
   "metadata": {
    "ExecuteTime": {
     "end_time": "2025-04-16T13:47:38.510470Z",
     "start_time": "2025-04-16T13:46:49.465345Z"
    }
   },
   "cell_type": "code",
   "source": [
    "import requests\n",
    "import time\n",
    "\n",
    "locations = [\n",
    "    \"AXI\", \"CAM\", \"CON\", \"CRO\", \"DAR\", \"DER\", \"EST-L\", \"EST-S\", \"FUL\", \"GRA\",\n",
    "    \"HER\", \"IRO\", \"JAC\", \"LAT\", \"MLT\", \"MOB\", \"THM\", \"URB\", \"WDC\"\n",
    "]\n",
    "\n",
    "url = \"https://maps.canfor.com/arcgis/rest/services/CSPWoodpro/WoodPro_NSApps_DB_Views/MapServer/3/query\"\n",
    "\n",
    "for loc in locations:\n",
    "    params = {\n",
    "        \"where\": f\"report_location='{loc}'\",\n",
    "        \"outFields\": \"report_location,report_tract_no,Tract_Name,tract_status_desc,Forester,tract_type_family,SaleType,latitude_dd,longitude_dd,Wthr_grd,PurchDate,harvest_status\",\n",
    "        \"resultRecordCount\": 2000,\n",
    "        \"f\": \"json\",\n",
    "        \"returnGeometry\": \"false\"\n",
    "    }\n",
    "\n",
    "    # Count request\n",
    "    count_params = {\n",
    "        \"where\": f\"report_location='{loc}'\",\n",
    "        \"returnCountOnly\": \"true\",\n",
    "        \"f\": \"json\"\n",
    "    }\n",
    "\n",
    "    count_resp = requests.get(url, params=count_params)\n",
    "    count = count_resp.json().get(\"count\", 0)\n",
    "\n",
    "    # Timed request\n",
    "    start = time.time()\n",
    "    response = requests.get(url, params=params)\n",
    "    elapsed = round((time.time() - start) * 1000)  # in milliseconds\n",
    "\n",
    "    print(f'{{ \"report_location\": \"{loc}\", \"count\": {count}, \"time\": \"{elapsed:,} ms\" }}')\n"
   ],
   "id": "bfd7c4fe8f69b7dc",
   "outputs": [
    {
     "name": "stdout",
     "output_type": "stream",
     "text": [
      "{ \"report_location\": \"AXI\", \"count\": 119, \"time\": \"1,094 ms\" }\n",
      "{ \"report_location\": \"CAM\", \"count\": 875, \"time\": \"1,159 ms\" }\n",
      "{ \"report_location\": \"CON\", \"count\": 883, \"time\": \"1,085 ms\" }\n",
      "{ \"report_location\": \"CRO\", \"count\": 29, \"time\": \"987 ms\" }\n",
      "{ \"report_location\": \"DAR\", \"count\": 516, \"time\": \"1,105 ms\" }\n",
      "{ \"report_location\": \"DER\", \"count\": 160, \"time\": \"1,025 ms\" }\n",
      "{ \"report_location\": \"EST-L\", \"count\": 419, \"time\": \"1,093 ms\" }\n",
      "{ \"report_location\": \"EST-S\", \"count\": 194, \"time\": \"1,050 ms\" }\n",
      "{ \"report_location\": \"FUL\", \"count\": 913, \"time\": \"1,395 ms\" }\n",
      "{ \"report_location\": \"GRA\", \"count\": 734, \"time\": \"1,145 ms\" }\n",
      "{ \"report_location\": \"HER\", \"count\": 190, \"time\": \"1,139 ms\" }\n",
      "{ \"report_location\": \"IRO\", \"count\": 105, \"time\": \"1,140 ms\" }\n",
      "{ \"report_location\": \"JAC\", \"count\": 204, \"time\": \"1,329 ms\" }\n",
      "{ \"report_location\": \"LAT\", \"count\": 17, \"time\": \"1,009 ms\" }\n",
      "{ \"report_location\": \"MLT\", \"count\": 551, \"time\": \"1,272 ms\" }\n",
      "{ \"report_location\": \"MOB\", \"count\": 257, \"time\": \"1,161 ms\" }\n",
      "{ \"report_location\": \"THM\", \"count\": 322, \"time\": \"1,226 ms\" }\n",
      "{ \"report_location\": \"URB\", \"count\": 486, \"time\": \"1,050 ms\" }\n",
      "{ \"report_location\": \"WDC\", \"count\": 6, \"time\": \"1,049 ms\" }\n"
     ]
    }
   ],
   "execution_count": 1
  },
  {
   "metadata": {},
   "cell_type": "code",
   "outputs": [],
   "execution_count": null,
   "source": "",
   "id": "9a4794cde4816fa5"
  }
 ],
 "metadata": {
  "kernelspec": {
   "display_name": "Python 3",
   "language": "python",
   "name": "python3"
  },
  "language_info": {
   "codemirror_mode": {
    "name": "ipython",
    "version": 2
   },
   "file_extension": ".py",
   "mimetype": "text/x-python",
   "name": "python",
   "nbconvert_exporter": "python",
   "pygments_lexer": "ipython2",
   "version": "2.7.6"
  }
 },
 "nbformat": 4,
 "nbformat_minor": 5
}
