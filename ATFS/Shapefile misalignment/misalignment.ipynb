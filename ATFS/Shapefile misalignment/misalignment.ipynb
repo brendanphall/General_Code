{
 "cells": [
  {
   "cell_type": "code",
   "id": "initial_id",
   "metadata": {
    "collapsed": true,
    "ExecuteTime": {
     "end_time": "2025-04-23T20:54:45.613265Z",
     "start_time": "2025-04-23T20:54:45.423671Z"
    }
   },
   "source": [
    "import os\n",
    "import fiona\n",
    "\n",
    "def inspect_shapefiles(root_dir):\n",
    "    for dirpath, _, filenames in os.walk(root_dir):\n",
    "        for file in filenames:\n",
    "            if file.lower().endswith(\".shp\"):\n",
    "                filepath = os.path.join(dirpath, file)\n",
    "                print(f\"\\n📄 Inspecting: {filepath}\")\n",
    "                try:\n",
    "                    with fiona.open(filepath, 'r') as src:\n",
    "                        crs = src.crs\n",
    "                        crs_wkt = src.crs_wkt\n",
    "                        schema = src.schema\n",
    "                        bounds = src.bounds\n",
    "                        feature_count = len(src)\n",
    "\n",
    "                        print(f\"  ➤ CRS: {crs or 'Unknown'}\")\n",
    "                        print(f\"  ➤ CRS WKT snippet: {crs_wkt[:120].replace('\\\\n', ' ')}...\" if crs_wkt else \"  ➤ CRS WKT: Not available\")\n",
    "                        print(f\"  ➤ Geometry Type: {schema['geometry']}\")\n",
    "                        print(f\"  ➤ Properties: {list(schema['properties'].keys())}\")\n",
    "                        print(f\"  ➤ Feature Count: {feature_count}\")\n",
    "                        print(f\"  ➤ Bounding Box: {bounds}\")\n",
    "                except Exception as e:\n",
    "                    print(f\"  ⚠️ Error reading {file}: {e}\")\n",
    "\n",
    "# Example usage:\n",
    "if __name__ == \"__main__\":\n",
    "    import sys\n",
    "    if len(sys.argv) < 2:\n",
    "        print(\"Usage: python inspect_shapefiles.py /path/to/folder\")\n",
    "    else:\n",
    "        inspect_shapefiles(sys.argv[1])\n"
   ],
   "outputs": [],
   "execution_count": 1
  },
  {
   "metadata": {},
   "cell_type": "code",
   "outputs": [],
   "execution_count": null,
   "source": "",
   "id": "d9b7db5c1adb119f"
  }
 ],
 "metadata": {
  "kernelspec": {
   "display_name": "Python 3",
   "language": "python",
   "name": "python3"
  },
  "language_info": {
   "codemirror_mode": {
    "name": "ipython",
    "version": 2
   },
   "file_extension": ".py",
   "mimetype": "text/x-python",
   "name": "python",
   "nbconvert_exporter": "python",
   "pygments_lexer": "ipython2",
   "version": "2.7.6"
  }
 },
 "nbformat": 4,
 "nbformat_minor": 5
}
