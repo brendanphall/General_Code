{
 "cells": [
  {
   "cell_type": "code",
   "id": "initial_id",
   "metadata": {
    "collapsed": true,
    "ExecuteTime": {
     "end_time": "2025-07-07T19:12:00.632721Z",
     "start_time": "2025-07-07T19:11:55.872352Z"
    }
   },
   "source": [
    "import geopandas as gpd\n",
    "from sqlalchemy import create_engine\n",
    "import pyodbc\n",
    "import fiona\n",
    "\n",
    "def convert_fgdb_to_your_sqlserver(fgdb_path, layer_name):\n",
    "    \"\"\"\n",
    "    Convert FGDB to your specific SQL Server instance\n",
    "    \"\"\"\n",
    "    # Your SQL Server connection\n",
    "    connection_string = f\"mssql+pyodbc://@100.103.17.32,1433/SpatialTest?driver=ODBC+Driver+17+for+SQL+Server&trusted_connection=yes\"\n",
    "\n",
    "    try:\n",
    "        # Read from FGDB\n",
    "        print(f\"Reading {layer_name} from {fgdb_path}...\")\n",
    "        gdf = gpd.read_file(fgdb_path, layer=layer_name)\n",
    "\n",
    "        # Create engine\n",
    "        engine = create_engine(connection_string)\n",
    "\n",
    "        # Convert geometry to WKT for SQL Server\n",
    "        gdf['Shape'] = gdf['geometry'].apply(lambda geom: geom.wkt if geom else None)\n",
    "\n",
    "        # Drop the original geometry column and rename\n",
    "        gdf = gdf.drop('geometry', axis=1)\n",
    "\n",
    "        # Write to SQL Server\n",
    "        gdf.to_sql(\n",
    "            name=layer_name,\n",
    "            con=engine,\n",
    "            if_exists='replace',\n",
    "            index=False,\n",
    "            dtype={'Shape': 'GEOMETRY'}\n",
    "        )\n",
    "\n",
    "        # Create spatial index with appropriate bounding box\n",
    "        with engine.connect() as conn:\n",
    "            conn.execute(f\"\"\"\n",
    "                CREATE SPATIAL INDEX SIDX_{layer_name}_Shape\n",
    "                ON {layer_name}(Shape)\n",
    "                USING GEOMETRY_GRID\n",
    "                WITH (BOUNDING_BOX = (-71.1, 42.9, -66.9, 47.5))\n",
    "            \"\"\")\n",
    "\n",
    "        print(f\"✓ Successfully converted {layer_name} to SpatialTest database\")\n",
    "        return True\n",
    "\n",
    "    except Exception as e:\n",
    "        print(f\"✗ Error converting {layer_name}: {e}\")\n",
    "        return False\n",
    "\n",
    "def list_and_convert_fgdb(fgdb_path):\n",
    "    \"\"\"\n",
    "    List all feature classes and convert selected ones\n",
    "    \"\"\"\n",
    "    try:\n",
    "        # List all layers in FGDB\n",
    "        layers = fiona.listlayers(fgdb_path)\n",
    "        print(f\"Found {len(layers)} layers in FGDB:\")\n",
    "        for i, layer in enumerate(layers, 1):\n",
    "            print(f\"  {i}. {layer}\")\n",
    "\n",
    "        # Convert each layer\n",
    "        for layer in layers:\n",
    "            convert_fgdb_to_your_sqlserver(fgdb_path, layer)\n",
    "\n",
    "    except Exception as e:\n",
    "        print(f\"Error processing FGDB: {e}\")\n",
    "\n",
    "# Usage examples:\n",
    "if __name__ == \"__main__\":\n",
    "    # Test with sample FGDB\n",
    "    fgdb_path = \"/Users/brendanhall/GitHub/General_Code/ATFS/FGDB to SQL Server Conversion/esri_ref_data.gdb/esri_ref_data.gdb\"\n",
    "\n",
    "    # List and convert all layers\n",
    "    list_and_convert_fgdb(fgdb_path)\n",
    "\n",
    "    # Or convert specific layer\n",
    "    # convert_fgdb_to_your_sqlserver(fgdb_path, \"YourSpecificLayer\")"
   ],
   "outputs": [
    {
     "name": "stdout",
     "output_type": "stream",
     "text": [
      "Found 4 layers in FGDB:\n",
      "  1. states\n",
      "  2. fedlandp\n",
      "  3. park_dtl\n",
      "  4. dtl_st\n",
      "Reading states from /Users/brendanhall/GitHub/General_Code/ATFS/FGDB to SQL Server Conversion/esri_ref_data.gdb/esri_ref_data.gdb...\n"
     ]
    },
    {
     "name": "stderr",
     "output_type": "stream",
     "text": [
      "/opt/miniconda3/envs/General_Code/lib/python3.12/site-packages/pyogrio/raw.py:198: RuntimeWarning: dtl_cnty layer has a /Users/brendanhall/GitHub/General_Code/ATFS/FGDB to SQL Server Conversion/esri_ref_data.gdb/esri_ref_data.gdb/a0000000a.gdbtable.cdf file whose format is unhandled\n",
      "  return ogr_read(\n"
     ]
    },
    {
     "name": "stdout",
     "output_type": "stream",
     "text": [
      "✗ Error converting states: (pyodbc.Error) ('HY000', \"[HY000] [Microsoft][ODBC Driver 17 for SQL Server]SSPI Provider: Server (MSSQLSvc/macpro-win.tail07861.ts.net\\x01:1433@TAIL07861.TS.NET\\x01) unknown while looking up 'MSSQLSvc/macpro-win.tail07861.ts.net\\x01:1433@TAIL07861.TS.NET\\x01' (cached result, timeout in 1200 sec) (851968) (SQLDriverConnect)\")\n",
      "(Background on this error at: https://sqlalche.me/e/20/dbapi)\n",
      "Reading fedlandp from /Users/brendanhall/GitHub/General_Code/ATFS/FGDB to SQL Server Conversion/esri_ref_data.gdb/esri_ref_data.gdb...\n"
     ]
    },
    {
     "name": "stderr",
     "output_type": "stream",
     "text": [
      "/opt/miniconda3/envs/General_Code/lib/python3.12/site-packages/pyogrio/raw.py:198: RuntimeWarning: dtl_cnty layer has a /Users/brendanhall/GitHub/General_Code/ATFS/FGDB to SQL Server Conversion/esri_ref_data.gdb/esri_ref_data.gdb/a0000000a.gdbtable.cdf file whose format is unhandled\n",
      "  return ogr_read(\n",
      "/opt/miniconda3/envs/General_Code/lib/python3.12/site-packages/pyogrio/raw.py:198: RuntimeWarning: organizePolygons() received a polygon with more than 100 parts. The processing may be really slow.  You can skip the processing by setting METHOD=SKIP, or only make it analyze counter-clock wise parts by setting METHOD=ONLY_CCW if you can assume that the outline of holes is counter-clock wise defined\n",
      "  return ogr_read(\n"
     ]
    },
    {
     "name": "stdout",
     "output_type": "stream",
     "text": [
      "✗ Error converting fedlandp: (pyodbc.Error) ('HY000', \"[HY000] [Microsoft][ODBC Driver 17 for SQL Server]SSPI Provider: Server (MSSQLSvc/macpro-win.tail07861.ts.net\\x01:1433@TAIL07861.TS.NET\\x01) unknown while looking up 'MSSQLSvc/macpro-win.tail07861.ts.net\\x01:1433@TAIL07861.TS.NET\\x01' (cached result, timeout in 1199 sec) (851968) (SQLDriverConnect)\")\n",
      "(Background on this error at: https://sqlalche.me/e/20/dbapi)\n",
      "Reading park_dtl from /Users/brendanhall/GitHub/General_Code/ATFS/FGDB to SQL Server Conversion/esri_ref_data.gdb/esri_ref_data.gdb...\n"
     ]
    },
    {
     "name": "stderr",
     "output_type": "stream",
     "text": [
      "/opt/miniconda3/envs/General_Code/lib/python3.12/site-packages/pyogrio/raw.py:198: RuntimeWarning: dtl_cnty layer has a /Users/brendanhall/GitHub/General_Code/ATFS/FGDB to SQL Server Conversion/esri_ref_data.gdb/esri_ref_data.gdb/a0000000a.gdbtable.cdf file whose format is unhandled\n",
      "  return ogr_read(\n"
     ]
    },
    {
     "name": "stdout",
     "output_type": "stream",
     "text": [
      "✗ Error converting park_dtl: (pyodbc.Error) ('HY000', \"[HY000] [Microsoft][ODBC Driver 17 for SQL Server]SSPI Provider: Server (MSSQLSvc/macpro-win.tail07861.ts.net\\x01:1433@TAIL07861.TS.NET\\x01) unknown while looking up 'MSSQLSvc/macpro-win.tail07861.ts.net\\x01:1433@TAIL07861.TS.NET\\x01' (cached result, timeout in 1198 sec) (851968) (SQLDriverConnect)\")\n",
      "(Background on this error at: https://sqlalche.me/e/20/dbapi)\n",
      "Reading dtl_st from /Users/brendanhall/GitHub/General_Code/ATFS/FGDB to SQL Server Conversion/esri_ref_data.gdb/esri_ref_data.gdb...\n"
     ]
    },
    {
     "name": "stderr",
     "output_type": "stream",
     "text": [
      "/opt/miniconda3/envs/General_Code/lib/python3.12/site-packages/pyogrio/raw.py:198: RuntimeWarning: dtl_cnty layer has a /Users/brendanhall/GitHub/General_Code/ATFS/FGDB to SQL Server Conversion/esri_ref_data.gdb/esri_ref_data.gdb/a0000000a.gdbtable.cdf file whose format is unhandled\n",
      "  return ogr_read(\n"
     ]
    },
    {
     "name": "stdout",
     "output_type": "stream",
     "text": [
      "✗ Error converting dtl_st: (pyodbc.Error) ('HY000', \"[HY000] [Microsoft][ODBC Driver 17 for SQL Server]SSPI Provider: Server (MSSQLSvc/macpro-win.tail07861.ts.net\\x01:1433@TAIL07861.TS.NET\\x01) unknown while looking up 'MSSQLSvc/macpro-win.tail07861.ts.net\\x01:1433@TAIL07861.TS.NET\\x01' (cached result, timeout in 1198 sec) (negative cache) (851968) (SQLDriverConnect)\")\n",
      "(Background on this error at: https://sqlalche.me/e/20/dbapi)\n"
     ]
    }
   ],
   "execution_count": 2
  }
 ],
 "metadata": {
  "kernelspec": {
   "display_name": "Python 3",
   "language": "python",
   "name": "python3"
  },
  "language_info": {
   "codemirror_mode": {
    "name": "ipython",
    "version": 2
   },
   "file_extension": ".py",
   "mimetype": "text/x-python",
   "name": "python",
   "nbconvert_exporter": "python",
   "pygments_lexer": "ipython2",
   "version": "2.7.6"
  }
 },
 "nbformat": 4,
 "nbformat_minor": 5
}
