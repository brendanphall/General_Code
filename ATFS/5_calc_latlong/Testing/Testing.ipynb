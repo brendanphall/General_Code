{
 "cells": [
  {
   "cell_type": "code",
   "execution_count": null,
   "id": "initial_id",
   "metadata": {
    "collapsed": true
   },
   "outputs": [],
   "source": [
    "from osgeo import ogr\n",
    "\n",
    "input_ds = ogr.Open(\"oregon.sqlite\")\n",
    "driver = ogr.GetDriverByName(\"GPKG\")\n",
    "output_ds = driver.CreateDataSource(\"temp_output.gpkg\")\n",
    "\n",
    "for i in range(input_ds.GetLayerCount()):\n",
    "    in_layer = input_ds.GetLayerByIndex(i)\n",
    "    output_ds.CopyLayer(in_layer, in_layer.GetName())\n",
    "\n",
    "print(\"Exported to GeoPackage.\")"
   ]
  },
  {
   "metadata": {
    "ExecuteTime": {
     "end_time": "2025-04-23T18:07:52.065225Z",
     "start_time": "2025-04-23T18:07:51.403210Z"
    }
   },
   "cell_type": "code",
   "source": [
    "from osgeo import ogr\n",
    "\n",
    "# --- Input & Output ---\n",
    "input_sqlite = r\"Z:\\Path\\To\\Your\\Input.sqlite\"\n",
    "output_gdb = r\"Z:\\Path\\To\\Your\\Output.gdb\"\n",
    "\n",
    "# --- Open input ---\n",
    "source_ds = ogr.Open(input_sqlite)\n",
    "if source_ds is None:\n",
    "    raise RuntimeError(f\"Could not open SQLite DB at {input_sqlite}\")\n",
    "\n",
    "# --- Get FileGDB driver ---\n",
    "driver = ogr.GetDriverByName(\"FileGDB\")\n",
    "if driver is None:\n",
    "    raise RuntimeError(\"FileGDB driver not available. Is the Esri FileGDB SDK installed?\")\n",
    "\n",
    "# --- Create GDB ---\n",
    "gdb_ds = driver.CreateDataSource(output_gdb)\n",
    "print(f\"Created FileGDB: {output_gdb}\")\n",
    "\n",
    "# --- Copy all layers ---\n",
    "for i in range(source_ds.GetLayerCount()):\n",
    "    in_layer = source_ds.GetLayerByIndex(i)\n",
    "    out_layer = gdb_ds.CopyLayer(in_layer, in_layer.GetName())\n",
    "    print(f\"Copied layer: {in_layer.GetName()}\")\n",
    "\n",
    "print(\"✅ Conversion complete.\")\n"
   ],
   "id": "248b0e1840c2cf57",
   "outputs": [
    {
     "name": "stderr",
     "output_type": "stream",
     "text": [
      "C:\\Users\\brendanhall\\AppData\\Local\\ESRI\\conda\\envs\\my_arcgis_env\\Lib\\site-packages\\osgeo\\ogr.py:601: FutureWarning: Neither ogr.UseExceptions() nor ogr.DontUseExceptions() has been explicitly called. In GDAL 4.0, exceptions will be enabled by default.\n",
      "  warnings.warn(\n"
     ]
    },
    {
     "ename": "RuntimeError",
     "evalue": "Could not open SQLite DB at Z:\\Path\\To\\Your\\Input.sqlite",
     "output_type": "error",
     "traceback": [
      "\u001B[1;31m---------------------------------------------------------------------------\u001B[0m",
      "\u001B[1;31mRuntimeError\u001B[0m                              Traceback (most recent call last)",
      "Cell \u001B[1;32mIn[1], line 10\u001B[0m\n\u001B[0;32m      8\u001B[0m source_ds \u001B[38;5;241m=\u001B[39m ogr\u001B[38;5;241m.\u001B[39mOpen(input_sqlite)\n\u001B[0;32m      9\u001B[0m \u001B[38;5;28;01mif\u001B[39;00m source_ds \u001B[38;5;129;01mis\u001B[39;00m \u001B[38;5;28;01mNone\u001B[39;00m:\n\u001B[1;32m---> 10\u001B[0m     \u001B[38;5;28;01mraise\u001B[39;00m \u001B[38;5;167;01mRuntimeError\u001B[39;00m(\u001B[38;5;124mf\u001B[39m\u001B[38;5;124m\"\u001B[39m\u001B[38;5;124mCould not open SQLite DB at \u001B[39m\u001B[38;5;132;01m{\u001B[39;00minput_sqlite\u001B[38;5;132;01m}\u001B[39;00m\u001B[38;5;124m\"\u001B[39m)\n\u001B[0;32m     12\u001B[0m \u001B[38;5;66;03m# --- Get FileGDB driver ---\u001B[39;00m\n\u001B[0;32m     13\u001B[0m driver \u001B[38;5;241m=\u001B[39m ogr\u001B[38;5;241m.\u001B[39mGetDriverByName(\u001B[38;5;124m\"\u001B[39m\u001B[38;5;124mFileGDB\u001B[39m\u001B[38;5;124m\"\u001B[39m)\n",
      "\u001B[1;31mRuntimeError\u001B[0m: Could not open SQLite DB at Z:\\Path\\To\\Your\\Input.sqlite"
     ]
    }
   ],
   "execution_count": 1
  },
  {
   "metadata": {},
   "cell_type": "code",
   "outputs": [],
   "execution_count": null,
   "source": [
    "from osgeo import ogr\n",
    "\n",
    "# --- Input & Output ---\n",
    "input_sqlite = r\"Z:\\GitHub\\General_Code\\ATFS\\5_calc_latlong\\oregon.sqlite\"\n",
    "output_gdb = r\"Z:\\GitHub\\General_Code\\ATFS\\5_calc_latlong\\Output.gdb\"\n",
    "\n",
    "# --- Open input ---\n",
    "source_ds = ogr.Open(input_sqlite)\n",
    "if source_ds is None:\n",
    "    raise RuntimeError(f\"Could not open SQLite DB at {input_sqlite}\")\n",
    "\n",
    "# --- Get FileGDB driver ---\n",
    "driver = ogr.GetDriverByName(\"FileGDB\")\n",
    "if driver is None:\n",
    "    raise RuntimeError(\"FileGDB driver not available. Is the Esri FileGDB SDK installed?\")\n",
    "\n",
    "# --- Create GDB ---\n",
    "gdb_ds = driver.CreateDataSource(output_gdb)\n",
    "print(f\"Created FileGDB: {output_gdb}\")\n",
    "\n",
    "# --- Copy all layers ---\n",
    "for i in range(source_ds.GetLayerCount()):\n",
    "    in_layer = source_ds.GetLayerByIndex(i)\n",
    "    out_layer = gdb_ds.CopyLayer(in_layer, in_layer.GetName())\n",
    "    print(f\"Copied layer: {in_layer.GetName()}\")\n",
    "\n",
    "print(\"✅ Conversion complete.\")\n"
   ],
   "id": "5fe50ccb441cfeeb"
  },
  {
   "metadata": {},
   "cell_type": "code",
   "outputs": [],
   "execution_count": null,
   "source": [
    "import arcpy\n",
    "import os\n",
    "\n",
    "# --- Input ---\n",
    "input_sqlite = r\"Z:\\GitHub\\General_Code\\ATFS\\5_calc_latlong\\oregon.sqlite\"\n",
    "\n",
    "# --- Generate output.gdb from input name ---\n",
    "base_name = os.path.splitext(os.path.basename(input_sqlite))[0]  # \"oregon\"\n",
    "output_folder = os.path.dirname(input_sqlite)\n",
    "gdb_name = f\"{base_name}.gdb\"\n",
    "output_gdb = os.path.join(output_folder, gdb_name)\n",
    "\n",
    "# --- Create FileGDB ---\n",
    "arcpy.CreateFileGDB_management(out_folder_path=output_folder, out_name=gdb_name)\n",
    "\n",
    "# --- Set workspace to SQLite ---\n",
    "arcpy.env.workspace = input_sqlite\n",
    "fcs = arcpy.ListFeatureClasses()\n",
    "\n",
    "# --- Copy to .gdb ---\n",
    "for fc in fcs:\n",
    "    arcpy.FeatureClassToFeatureClass_conversion(fc, output_gdb, fc)\n",
    "    print(f\"Copied: {fc}\")\n",
    "\n",
    "print(f\"✅ All layers copied to {gdb_name}\")\n"
   ],
   "id": "31fa47efa2ce0678"
  },
  {
   "metadata": {},
   "cell_type": "code",
   "outputs": [],
   "execution_count": null,
   "source": [
    "import arcpy\n",
    "import os\n",
    "\n",
    "input_sqlite = r\"Z:\\GitHub\\General_Code\\ATFS\\5_calc_latlong\\oregon.sqlite\"\n",
    "base_name = os.path.splitext(os.path.basename(input_sqlite))[0]\n",
    "output_folder = os.path.dirname(input_sqlite)\n",
    "gdb_name = f\"{base_name}.gdb\"\n",
    "output_gdb = os.path.join(output_folder, gdb_name)\n",
    "\n",
    "# Create the FileGDB\n",
    "arcpy.CreateFileGDB_management(out_folder_path=output_folder, out_name=gdb_name)\n",
    "print(f\"Created GDB: {output_gdb}\")\n",
    "\n",
    "# List features from SQLite\n",
    "arcpy.env.workspace = input_sqlite\n",
    "fcs = arcpy.ListFeatureClasses()\n",
    "print(f\"Found {len(fcs)} feature classes: {fcs}\")\n",
    "\n",
    "if not fcs:\n",
    "    print(\"⚠️ No feature classes found in SQLite. Nothing to copy.\")\n",
    "else:\n",
    "    for fc in fcs:\n",
    "        try:\n",
    "            arcpy.FeatureClassToFeatureClass_conversion(fc, output_gdb, fc)\n",
    "            print(f\"✅ Copied: {fc}\")\n",
    "        except Exception as e:\n",
    "            print(f\"❌ Failed to copy {fc}: {e}\")\n",
    "\n",
    "print(\"✅ Script finished.\")\n"
   ],
   "id": "2799c0f33477c155"
  }
 ],
 "metadata": {
  "kernelspec": {
   "display_name": "Python 3",
   "language": "python",
   "name": "python3"
  },
  "language_info": {
   "codemirror_mode": {
    "name": "ipython",
    "version": 2
   },
   "file_extension": ".py",
   "mimetype": "text/x-python",
   "name": "python",
   "nbconvert_exporter": "python",
   "pygments_lexer": "ipython2",
   "version": "2.7.6"
  }
 },
 "nbformat": 4,
 "nbformat_minor": 5
}
