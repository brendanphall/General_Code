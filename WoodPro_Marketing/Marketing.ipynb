{
 "cells": [
  {
   "cell_type": "code",
   "execution_count": null,
   "id": "initial_id",
   "metadata": {
    "collapsed": true
   },
   "outputs": [],
   "source": ""
  },
  {
   "metadata": {
    "ExecuteTime": {
     "end_time": "2025-03-06T13:21:18.495377Z",
     "start_time": "2025-03-06T13:21:18.491700Z"
    }
   },
   "cell_type": "code",
   "source": [
    "import os\n",
    "\n",
    "filename = \"Geospatial_Solution_Pricing_Calculator.xlsx\"\n",
    "\n",
    "if os.path.exists(filename):\n",
    "    print(f\"File found: {os.path.abspath(filename)}\")\n",
    "else:\n",
    "    print(\"File not found!\")\n"
   ],
   "id": "ec368e3c1e25a1fb",
   "outputs": [
    {
     "name": "stdout",
     "output_type": "stream",
     "text": [
      "File not found!\n"
     ]
    }
   ],
   "execution_count": 1
  },
  {
   "metadata": {},
   "cell_type": "code",
   "outputs": [],
   "execution_count": null,
   "source": "",
   "id": "b7b414516ff84714"
  }
 ],
 "metadata": {
  "kernelspec": {
   "display_name": "Python 3",
   "language": "python",
   "name": "python3"
  },
  "language_info": {
   "codemirror_mode": {
    "name": "ipython",
    "version": 2
   },
   "file_extension": ".py",
   "mimetype": "text/x-python",
   "name": "python",
   "nbconvert_exporter": "python",
   "pygments_lexer": "ipython2",
   "version": "2.7.6"
  }
 },
 "nbformat": 4,
 "nbformat_minor": 5
}
