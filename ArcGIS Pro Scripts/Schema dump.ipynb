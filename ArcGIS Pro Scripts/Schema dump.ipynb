{
 "cells": [
  {
   "cell_type": "code",
   "id": "initial_id",
   "metadata": {
    "collapsed": true,
    "ExecuteTime": {
     "end_time": "2025-04-07T17:24:51.281338Z",
     "start_time": "2025-04-07T17:24:35.695215Z"
    }
   },
   "source": [
    "import arcpy\n",
    "import csv\n",
    "import os\n",
    "\n",
    "# === Paths ===\n",
    "gdb_path = r\"X:\\Projects\\BetterRoads\\Sidewalks\\Schema_Update_ProProject\\Schema_Update_ProProject.gdb\"\n",
    "output_dir = os.path.dirname(gdb_path)\n",
    "\n",
    "# === Output CSV paths ===\n",
    "domains_csv = os.path.join(output_dir, \"domains.csv\")\n",
    "fields_csv = os.path.join(output_dir, \"fields.csv\")\n",
    "relationships_csv = os.path.join(output_dir, \"relationships.csv\")\n",
    "\n",
    "# === Domains ===\n",
    "domains = arcpy.da.ListDomains(gdb_path)\n",
    "with open(domains_csv, mode='w', newline='', encoding='utf-8') as file:\n",
    "    writer = csv.writer(file)\n",
    "    writer.writerow([\"Domain Name\", \"Domain Type\", \"Field Type\", \"Code or Range\", \"Description\"])\n",
    "    for domain in domains:\n",
    "        field_type = getattr(domain, \"fieldType\", \"Unknown\")\n",
    "        if domain.domainType == \"CodedValue\":\n",
    "            for code, desc in domain.codedValues.items():\n",
    "                writer.writerow([domain.name, domain.domainType, field_type, code, desc])\n",
    "        elif domain.domainType == \"Range\":\n",
    "            writer.writerow([domain.name, domain.domainType, field_type,\n",
    "                             f\"{domain.range[0]} - {domain.range[1]}\", \"\"])\n",
    "\n",
    "# === Feature Classes and Tables (Fields) ===\n",
    "arcpy.env.workspace = gdb_path\n",
    "datasets = arcpy.ListFeatureClasses() + arcpy.ListTables()\n",
    "with open(fields_csv, mode='w', newline='', encoding='utf-8') as file:\n",
    "    writer = csv.writer(file)\n",
    "    writer.writerow([\"Dataset\", \"Field Name\", \"Alias\", \"Type\", \"Length\", \"Nullable\", \"Domain\", \"Default Value\"])\n",
    "    for dataset in datasets:\n",
    "        full_path = os.path.join(gdb_path, dataset)\n",
    "        fields = arcpy.ListFields(full_path)\n",
    "        for field in fields:\n",
    "            writer.writerow([\n",
    "                dataset,\n",
    "                field.name,\n",
    "                field.aliasName,\n",
    "                field.type,\n",
    "                field.length,\n",
    "                field.isNullable,\n",
    "                field.domain,\n",
    "                field.defaultValue if hasattr(field, \"defaultValue\") else \"\"\n",
    "            ])\n",
    "\n",
    "# === Relationships ===\n",
    "desc = arcpy.Describe(gdb_path)\n",
    "if hasattr(desc, \"relationshipClasses\"):\n",
    "    relationships = desc.relationshipClasses\n",
    "else:\n",
    "    relationships = []\n",
    "\n",
    "with open(relationships_csv, mode='w', newline='', encoding='utf-8') as file:\n",
    "    writer = csv.writer(file)\n",
    "    writer.writerow([\"Name\", \"Origin Table\", \"Destination Table\", \"Cardinality\", \"Forward Label\", \"Backward Label\", \"Is Attributed\"])\n",
    "    for rel in relationships:\n",
    "        writer.writerow([\n",
    "            rel.name,\n",
    "            rel.originClassNames[0] if rel.originClassNames else \"\",\n",
    "            rel.destinationClassNames[0] if rel.destinationClassNames else \"\",\n",
    "            rel.cardinality,\n",
    "            rel.forwardPathLabel,\n",
    "            rel.backwardPathLabel,\n",
    "            rel.isAttributed\n",
    "        ])\n"
   ],
   "outputs": [],
   "execution_count": 1
  },
  {
   "metadata": {},
   "cell_type": "code",
   "outputs": [],
   "execution_count": null,
   "source": "",
   "id": "8fee6b0ef7258230"
  }
 ],
 "metadata": {
  "kernelspec": {
   "display_name": "Python 3",
   "language": "python",
   "name": "python3"
  },
  "language_info": {
   "codemirror_mode": {
    "name": "ipython",
    "version": 2
   },
   "file_extension": ".py",
   "mimetype": "text/x-python",
   "name": "python",
   "nbconvert_exporter": "python",
   "pygments_lexer": "ipython2",
   "version": "2.7.6"
  }
 },
 "nbformat": 4,
 "nbformat_minor": 5
}
