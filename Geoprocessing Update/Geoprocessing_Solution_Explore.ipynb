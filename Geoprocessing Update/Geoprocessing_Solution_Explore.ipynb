{
 "cells": [
  {
   "cell_type": "code",
   "id": "initial_id",
   "metadata": {
    "collapsed": true,
    "ExecuteTime": {
     "end_time": "2025-01-28T16:39:18.621755Z",
     "start_time": "2025-01-28T16:39:18.309021Z"
    }
   },
   "source": [
    "# Import necessary libraries\n",
    "import sys\n",
    "import zipfile\n",
    "import os\n",
    "import logging\n",
    "from os.path import isdir, join, normpath, split\n",
    "from pyproj import Transformer\n",
    "import fiona\n",
    "from fiona.transform import transform_geom\n",
    "\n",
    "# Configure logging for consistent message output\n",
    "logging.basicConfig(level=logging.INFO, format='[py] %(message)s')\n",
    "\n",
    "# Function to log messages\n",
    "def logMessage(msg):\n",
    "    logging.info(msg)\n",
    "\n",
    "# Print a message to confirm imports and logging configuration\n",
    "logMessage(\"Libraries imported and logging configured.\")\n"
   ],
   "outputs": [
    {
     "name": "stderr",
     "output_type": "stream",
     "text": [
      "[py] Libraries imported and logging configured.\n"
     ]
    }
   ],
   "execution_count": 1
  },
  {
   "metadata": {
    "ExecuteTime": {
     "end_time": "2025-01-28T16:39:48.305360Z",
     "start_time": "2025-01-28T16:39:48.300788Z"
    }
   },
   "cell_type": "code",
   "source": [
    "# Function to extract the contents of a ZIP file\n",
    "def unzipfiles(path, zip):\n",
    "    shapefileName = ''\n",
    "    if not isdir(path):  # Check if the directory exists\n",
    "        os.makedirs(path)  # Create directory if it doesn't exist\n",
    "\n",
    "    for x in zip.namelist():  # Iterate through files in the ZIP\n",
    "        logMessage(f\"Extracting {os.path.basename(x)} ...\")\n",
    "        fileExt = os.path.splitext(x)[1].lower()  # Get file extension\n",
    "        if fileExt == \".shp\":  # Identify shapefiles\n",
    "            shapefileName = normpath(str(x))\n",
    "\n",
    "        if not x.endswith('/'):  # Skip directories\n",
    "            root, name = split(x)\n",
    "            directory = normpath(join(path, root))\n",
    "            if not isdir(directory):  # Create necessary directories\n",
    "                os.makedirs(directory)\n",
    "            # Write file contents to disk\n",
    "            with open(join(directory, name), 'wb') as f:\n",
    "                f.write(zip.read(x))\n",
    "\n",
    "    return shapefileName  # Return the shapefile name (if found)\n",
    "\n",
    "# Print a message to confirm the function is ready\n",
    "logMessage(\"unzipfiles function defined.\")\n"
   ],
   "id": "895ee3e413b86e6e",
   "outputs": [
    {
     "name": "stderr",
     "output_type": "stream",
     "text": [
      "[py] unzipfiles function defined.\n"
     ]
    }
   ],
   "execution_count": 2
  },
  {
   "metadata": {
    "ExecuteTime": {
     "end_time": "2025-01-28T16:39:59.051781Z",
     "start_time": "2025-01-28T16:39:59.048795Z"
    }
   },
   "cell_type": "code",
   "source": [
    "# Wrapper function to handle the ZIP extraction\n",
    "def unzip(infile, outfol):\n",
    "    try:\n",
    "        # Open the ZIP file\n",
    "        with zipfile.ZipFile(infile, 'r') as zip:\n",
    "            shapefileName = unzipfiles(outfol, zip)  # Extract files\n",
    "        return shapefileName\n",
    "    except Exception as e:\n",
    "        logMessage(f\"Error: {e}\")  # Log errors if they occur\n",
    "        return None\n",
    "\n",
    "# Print a message to confirm the function is ready\n",
    "logMessage(\"unzip function defined.\")\n"
   ],
   "id": "1fe8af233ed14445",
   "outputs": [
    {
     "name": "stderr",
     "output_type": "stream",
     "text": [
      "[py] unzip function defined.\n"
     ]
    }
   ],
   "execution_count": 3
  },
  {
   "metadata": {
    "ExecuteTime": {
     "end_time": "2025-01-28T16:40:06.322179Z",
     "start_time": "2025-01-28T16:40:06.317482Z"
    }
   },
   "cell_type": "code",
   "source": [
    "# Function to reproject a shapefile to a new CRS\n",
    "def project(input_path, output_path, target_crs):\n",
    "    try:\n",
    "        with fiona.open(input_path, 'r') as source:  # Open the source shapefile\n",
    "            source_crs = source.crs  # Get source CRS\n",
    "            schema = source.schema  # Get schema (fields, geometry type)\n",
    "\n",
    "            with fiona.open(\n",
    "                output_path, 'w',\n",
    "                driver=source.driver,  # Same driver (e.g., shapefile)\n",
    "                crs=target_crs,  # New CRS\n",
    "                schema=schema  # Same schema\n",
    "            ) as target:\n",
    "                transformer = Transformer.from_crs(source_crs, target_crs, always_xy=True)\n",
    "                for feature in source:\n",
    "                    # Transform geometry to the new CRS\n",
    "                    transformed_geom = transform_geom(\n",
    "                        source_crs, target_crs, feature['geometry'], transformer=transformer\n",
    "                    )\n",
    "                    feature['geometry'] = transformed_geom\n",
    "                    target.write(feature)  # Write transformed feature to target\n",
    "    except Exception as e:\n",
    "        logMessage(f\"Projection error: {e}\")  # Log errors\n",
    "        return None\n",
    "\n",
    "# Print a message to confirm the function is ready\n",
    "logMessage(\"project function defined.\")\n"
   ],
   "id": "c731cc9ba7d22a5d",
   "outputs": [
    {
     "name": "stderr",
     "output_type": "stream",
     "text": [
      "[py] project function defined.\n"
     ]
    }
   ],
   "execution_count": 4
  },
  {
   "metadata": {
    "ExecuteTime": {
     "end_time": "2025-01-28T16:40:55.058404Z",
     "start_time": "2025-01-28T16:40:55.006014Z"
    }
   },
   "cell_type": "code",
   "source": [
    "# Simulated entry point for the script (using test parameters)\n",
    "if __name__ == '__main__':\n",
    "    logMessage(\"Script started\")\n",
    "    try:\n",
    "        # Example parameters (replace with real ones in production)\n",
    "        infile = 'archive.zip'  # Input ZIP file\n",
    "        outdir = './output'  # Output directory\n",
    "        target_crs = 'EPSG:3857'  # Web Mercator CRS\n",
    "\n",
    "        if not infile or not outdir:\n",
    "            logMessage(\"Usage: script.py <input_zip_file> <output_directory>\")\n",
    "        else:\n",
    "            # Extract shapefile\n",
    "            shapefileName = unzip(infile, outdir)\n",
    "            if shapefileName:\n",
    "                input_path = join(outdir, shapefileName)\n",
    "                output_path = join(outdir, f\"_{os.path.basename(shapefileName)}\")\n",
    "                # Reproject shapefile\n",
    "                project(input_path, output_path, target_crs)\n",
    "                logMessage(f\"Shapefile processed and saved to {output_path}\")\n",
    "            else:\n",
    "                logMessage(\"No shapefile found.\")\n",
    "    except Exception as e:\n",
    "        logMessage(f\"Unexpected error: {e}\")\n",
    "    logMessage(\"Finished\")\n"
   ],
   "id": "9808ba7e95d6ca3f",
   "outputs": [
    {
     "name": "stderr",
     "output_type": "stream",
     "text": [
      "[py] Script started\n",
      "[py] Extracting TMBPoints.cpg ...\n",
      "[py] Extracting TMBPoints.dbf ...\n",
      "[py] Extracting TMBPoints.prj ...\n",
      "[py] Extracting TMBPoints.sbn ...\n",
      "[py] Extracting TMBPoints.sbx ...\n",
      "[py] Extracting TMBPoints.shp ...\n",
      "[py] Extracting TMBPoints.shp.BRENDANHALLC656.8968.11544.sr.lock ...\n",
      "[py] Extracting TMBPoints.shp.xml ...\n",
      "[py] Extracting TMBPoints.shx ...\n",
      "[py] Projection error: transform_geom() got an unexpected keyword argument 'transformer'\n",
      "[py] Shapefile processed and saved to ./output/_TMBPoints.shp\n",
      "[py] Finished\n"
     ]
    }
   ],
   "execution_count": 6
  },
  {
   "metadata": {},
   "cell_type": "raw",
   "source": [
    "How to Use\n",
    "Run each chunk in sequence in a Jupyter Notebook cell.\n",
    "Replace the test parameters (infile, outdir) with actual file paths and directory locations.\n",
    "Review the printed outputs from logMessage in each chunk for debugging and progress tracking.\n",
    "Output Example\n",
    "\n",
    "\n",
    "The notebook will print messages such as:\n",
    "\n",
    "[py] Libraries imported and logging configured.\n",
    "[py] unzipfiles function defined.\n",
    "[py] unzip function defined.\n",
    "[py] project function defined.\n",
    "[py] Script started.\n",
    "[py] Extracting shapefile.shp ...\n",
    "[py] Shapefile processed and saved to ./output/_shapefile.shp\n",
    "[py] Finished."
   ],
   "id": "77b2039548104d83"
  }
 ],
 "metadata": {
  "kernelspec": {
   "display_name": "Python 3",
   "language": "python",
   "name": "python3"
  },
  "language_info": {
   "codemirror_mode": {
    "name": "ipython",
    "version": 2
   },
   "file_extension": ".py",
   "mimetype": "text/x-python",
   "name": "python",
   "nbconvert_exporter": "python",
   "pygments_lexer": "ipython2",
   "version": "2.7.6"
  }
 },
 "nbformat": 4,
 "nbformat_minor": 5
}
