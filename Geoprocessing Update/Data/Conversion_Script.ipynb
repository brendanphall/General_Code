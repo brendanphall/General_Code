{
 "cells": [
  {
   "cell_type": "code",
   "id": "initial_id",
   "metadata": {
    "collapsed": true
   },
   "source": [
    "import fiona\n",
    "from fiona.transform import transform_geom\n",
    "import os\n",
    "import logging\n",
    "\n",
    "# Configure logging\n",
    "logging.basicConfig(level=logging.INFO, format='%(message)s')\n",
    "\n",
    "# Target coordinate reference system\n",
    "TARGET_CRS = 'EPSG:3857'\n",
    "\n",
    "# Function to reproject a shapefile\n",
    "def reproject_shapefile(input_shp):\n",
    "    output_shp = f\"reprojected_{os.path.basename(input_shp)}\"\n",
    "\n",
    "    with fiona.open(input_shp, 'r') as source:\n",
    "        source_crs = source.crs\n",
    "        schema = source.schema\n",
    "\n",
    "        with fiona.open(\n",
    "            output_shp, 'w',\n",
    "            driver=source.driver,\n",
    "            crs=TARGET_CRS,\n",
    "            schema=schema\n",
    "        ) as target:\n",
    "            for feature in source:\n",
    "                transformed_geom = transform_geom(source_crs, TARGET_CRS, feature['geometry'])\n",
    "                feature['geometry'] = transformed_geom\n",
    "                target.write(feature)\n",
    "\n",
    "    logging.info(f\"Reprojected: {input_shp} -> {output_shp}\")\n",
    "\n",
    "# Find and process shapefiles in the current directory\n",
    "for file in os.listdir():\n",
    "    if file.endswith('.shp'):\n",
    "        reproject_shapefile(file)\n",
    "\n",
    "logging.info(\"Processing complete.\")\n"
   ],
   "outputs": [],
   "execution_count": null
  },
  {
   "metadata": {
    "ExecuteTime": {
     "end_time": "2025-01-29T17:56:27.029529Z",
     "start_time": "2025-01-29T17:56:27.004205Z"
    }
   },
   "cell_type": "code",
   "source": [
    "import fiona\n",
    "from fiona.transform import transform_geom\n",
    "import os\n",
    "import logging\n",
    "import json\n",
    "\n",
    "# Configure logging\n",
    "logging.basicConfig(level=logging.INFO, format='%(message)s')\n",
    "\n",
    "# Target coordinate reference system\n",
    "TARGET_CRS = 'EPSG:3857'\n",
    "\n",
    "# Function to reproject a shapefile and output ArcGIS JSON\n",
    "def reproject_shapefile(input_shp):\n",
    "    output_json = f\"reprojected_{os.path.splitext(os.path.basename(input_shp))[0]}.json\"\n",
    "    features = []\n",
    "\n",
    "    with fiona.open(input_shp, 'r') as source:\n",
    "        source_crs = source.crs\n",
    "\n",
    "        for feature in source:\n",
    "            transformed_geom = transform_geom(source_crs, TARGET_CRS, feature['geometry'])\n",
    "            arcgis_feature = {\n",
    "                \"geometry\": {\n",
    "                    \"rings\": transformed_geom['coordinates'] if transformed_geom['type'] == 'Polygon' else [],\n",
    "                    \"spatialReference\": {\"wkid\": 3857}\n",
    "                },\n",
    "                \"attributes\": dict(feature['properties'])  # Ensure properties are serializable\n",
    "            }\n",
    "            features.append(arcgis_feature)\n",
    "\n",
    "    with open(output_json, 'w') as json_file:\n",
    "        json.dump(features, json_file, indent=4)\n",
    "\n",
    "    logging.info(f\"Reprojected and saved as ArcGIS JSON: {output_json}\")\n",
    "\n",
    "# Find and process shapefiles in the current directory\n",
    "for file in os.listdir():\n",
    "    if file.endswith('.shp'):\n",
    "        reproject_shapefile(file)\n",
    "\n",
    "logging.info(\"Processing complete.\")\n",
    "\n"
   ],
   "id": "626c24cc62b09c03",
   "outputs": [
    {
     "name": "stderr",
     "output_type": "stream",
     "text": [
      "Reprojected and saved as ArcGIS JSON: reprojected_PointsOut.json\n",
      "Processing complete.\n"
     ]
    }
   ],
   "execution_count": 3
  },
  {
   "metadata": {},
   "cell_type": "code",
   "source": "",
   "id": "1bba9b3f8811c92c",
   "outputs": [],
   "execution_count": null
  }
 ],
 "metadata": {
  "kernelspec": {
   "display_name": "Python 3",
   "language": "python",
   "name": "python3"
  },
  "language_info": {
   "codemirror_mode": {
    "name": "ipython",
    "version": 2
   },
   "file_extension": ".py",
   "mimetype": "text/x-python",
   "name": "python",
   "nbconvert_exporter": "python",
   "pygments_lexer": "ipython2",
   "version": "2.7.6"
  }
 },
 "nbformat": 4,
 "nbformat_minor": 5
}
