{
 "cells": [
  {
   "metadata": {},
   "cell_type": "code",
   "outputs": [],
   "execution_count": null,
   "source": [
    "# Import necessary libraries\n",
    "import sys\n",
    "import zipfile\n",
    "import arcpy\n",
    "import os\n",
    "import traceback\n",
    "from os.path import isdir, join, normpath, split\n",
    "\n",
    "# Print a message to confirm the libraries are imported\n",
    "print(\"Libraries imported successfully.\")\n"
   ],
   "id": "c7d94678f918d021"
  },
  {
   "metadata": {},
   "cell_type": "code",
   "outputs": [],
   "execution_count": null,
   "source": [
    "# Function to log messages using arcpy\n",
    "def logMessage(msg):\n",
    "    arcpy.AddMessage(\"[py] \" + msg)\n",
    "\n",
    "# Test the logging function\n",
    "logMessage(\"Logging function defined.\")\n"
   ],
   "id": "411970ffad4dbccc"
  },
  {
   "metadata": {},
   "cell_type": "code",
   "outputs": [],
   "execution_count": null,
   "source": [
    "# Function to extract contents of a ZIP file\n",
    "def unzipfiles(path, zip):\n",
    "    shapefileName = ''  # Initialize the shapefile name\n",
    "    if not isdir(path):  # Check if the directory exists\n",
    "        os.makedirs(path)  # Create it if necessary\n",
    "\n",
    "    for x in zip.namelist():  # Loop through items in the ZIP\n",
    "        arcpy.AddMessage(\"Extracting \" + os.path.basename(x) + \" ...\")\n",
    "\n",
    "        # Check for shapefile extension\n",
    "        fileExt = os.path.splitext(x)[1].lower()\n",
    "        if fileExt == \".shp\":\n",
    "            shapefileName = normpath(str(x))\n",
    "\n",
    "        # Handle nested directories and write files\n",
    "        if not x.endswith('/'):\n",
    "            root, name = split(x)\n",
    "            directory = normpath(join(path, root))\n",
    "            if not isdir(directory):\n",
    "                os.makedirs(directory)\n",
    "            open(join(directory, name), 'wb').write(zip.read(x))\n",
    "\n",
    "    return shapefileName  # Return the shapefile name\n",
    "\n",
    "# Confirm function definition\n",
    "logMessage(\"unzipfiles function defined.\")\n"
   ],
   "id": "7b243d5e582a14cb"
  },
  {
   "metadata": {},
   "cell_type": "code",
   "outputs": [],
   "execution_count": null,
   "source": [
    "# Function to handle the unzipping process\n",
    "def unzip(infile, outfol):\n",
    "    try:\n",
    "        zip = zipfile.ZipFile(infile, 'r')  # Open the ZIP file\n",
    "        shapefileName = unzipfiles(outfol, zip)  # Extract files\n",
    "        zip.close()\n",
    "        return shapefileName\n",
    "    except:\n",
    "        tb = sys.exc_info()[2]\n",
    "        tbinfo = traceback.format_tb(tb)[0]\n",
    "        pymsg = \"PYTHON ERRORS:\\nTraceback Info:\\n\" + tbinfo + \"\\nError Info:\\n\" + str(sys.exc_type) + \": \" + str(sys.exc_value) + \"\\n\"\n",
    "        arcpy.AddError(pymsg)\n",
    "        return None\n",
    "\n",
    "# Confirm function definition\n",
    "logMessage(\"unzip function defined.\")\n"
   ],
   "id": "df949efb27f437fc"
  },
  {
   "metadata": {},
   "cell_type": "code",
   "outputs": [],
   "execution_count": null,
   "source": [
    "# Function to project the shapefile to Web Mercator\n",
    "def project(shapefilename):\n",
    "    inShp = os.path.join(arcpy.env.scratchFolder, shapefilename)  # Input shapefile path\n",
    "    root, name = split(inShp)\n",
    "    outShp = os.path.join(root, \"_\" + name)  # Output shapefile path\n",
    "    spref = arcpy.SpatialReference(102100)  # Web Mercator projection\n",
    "    arcpy.Project_management(inShp, outShp, spref)  # Perform reprojection\n",
    "    return outShp\n",
    "\n",
    "# Confirm function definition\n",
    "logMessage(\"project function defined.\")\n"
   ],
   "id": "2fc60f16b1ec947c"
  },
  {
   "metadata": {},
   "cell_type": "code",
   "outputs": [],
   "execution_count": null,
   "source": [
    "if __name__ == '__main__':\n",
    "    logMessage(\"Script started\")\n",
    "\n",
    "    try:\n",
    "        # Debugging environment variables\n",
    "        logMessage(\"arcpy.env.scratchFolder: \" + str(arcpy.env.scratchFolder))\n",
    "        logMessage(\"arcpy.env.scratchWorkspace: \" + str(arcpy.env.scratchWorkspace))\n",
    "    except:\n",
    "        logMessage(\"No scratch environment variables available.\")\n",
    "\n",
    "    try:\n",
    "        # Retrieve input parameters\n",
    "        p5 = arcpy.GetParameter(0)  # Input ZIP file\n",
    "        logMessage(\"File: \" + str(p5))\n",
    "\n",
    "        # Check for valid input\n",
    "        if p5 == '#' or not p5 or str(p5) == '':\n",
    "            logMessage(\"No ZIP file provided.\")\n",
    "        else:\n",
    "            shapefileName = unzip(str(p5), arcpy.env.scratchFolder)  # Unzip the file\n",
    "            logMessage(\"Shapefile: \" + shapefileName)\n",
    "\n",
    "            # Project the shapefile if found\n",
    "            if shapefileName:\n",
    "                shapefile2 = project(shapefileName)\n",
    "                arcpy.SetParameterAsText(1, shapefile2)  # Output the projected shapefile\n",
    "    except:\n",
    "        # Handle any unexpected errors\n",
    "        logMessage(\"Bad parameters\")\n",
    "        logMessage(sys.exc_info()[0])\n",
    "\n",
    "    logMessage(\"Script finished.\")\n"
   ],
   "id": "909c4e3aa0620aba"
  },
  {
   "metadata": {},
   "cell_type": "markdown",
   "source": [
    "How to Use\n",
    "Run the script chunk by chunk in Jupyter Notebook.\n",
    "Make sure to replace the placeholder values (like p5) with real input files when running.\n",
    "Review output from the arcpy.AddMessage calls in ArcGIS or substitute them with print statements for standalone testing.\n"
   ],
   "id": "9e9684273f9b0df3"
  }
 ],
 "metadata": {
  "kernelspec": {
   "display_name": "Python 3",
   "language": "python",
   "name": "python3"
  },
  "language_info": {
   "codemirror_mode": {
    "name": "ipython",
    "version": 2
   },
   "file_extension": ".py",
   "mimetype": "text/x-python",
   "name": "python",
   "nbconvert_exporter": "python",
   "pygments_lexer": "ipython2",
   "version": "2.7.6"
  }
 },
 "nbformat": 4,
 "nbformat_minor": 5
}
