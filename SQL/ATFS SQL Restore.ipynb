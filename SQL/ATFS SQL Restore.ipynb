{
 "cells": [
  {
   "cell_type": "code",
   "outputs": [
    {
     "name": "stdout",
     "output_type": "stream",
     "text": [
      "\n",
      "--- SQL Server Restore Details ---\n",
      "Server: 100.103.17.32,1433\n",
      "Authentication: SQL Login (dbeaver)\n",
      "SQL Script: D:\\Projects\\ATFS\\Backup\\restore_local.sql\n",
      "Backup File: /Users/brendanhall/Library/CloudStorage/OneDrive-Sewall/Projects/ATFS/_DB/DB_Restore/ATFS_Backups/atfs_bak_20250408_020000/atfs.bak\n",
      "----------------------------------\n",
      "\n",
      "Testing connection to SQL Server...\n",
      "✅ Connection successful.\n",
      "\n",
      "❌ Backup file not found: /Users/brendanhall/Library/CloudStorage/OneDrive-Sewall/Projects/ATFS/_DB/DB_Restore/ATFS_Backups/atfs_bak_20250408_020000/atfs.bak\n"
     ]
    },
    {
     "data": {
      "text/plain": "''"
     },
     "execution_count": 8,
     "metadata": {},
     "output_type": "execute_result"
    }
   ],
   "source": [
    "import os\n",
    "import subprocess\n",
    "import glob\n",
    "\n",
    "# Prompt user for the backup directory path\n",
    "backup_dir = input(\"Enter the full path to the backup directory: \").strip()\n",
    "backup_file = os.path.join(backup_dir, \"atfs.bak\")\n",
    "\n",
    "# Prompt for SQL Server connection info\n",
    "\n",
    "sql_server =\"100.103.17.32,1433\"\n",
    "\n",
    "'''sql_server = input(\"Enter SQL Server IP or hostname [default: 100.103.17.32,1433]: \").strip()\n",
    "if not sql_server:\n",
    "    sql_server = \"100.103.17.32,1433\"\n",
    "elif \",\" not in sql_server:\n",
    "    sql_server += \",1433\"'''\n",
    "\n",
    "# --- Hardcoded SQL credentials for testing ---\n",
    "sql_user = \"dbeaver\"\n",
    "sql_password = \"dbeaver\"\n",
    "sql_script = r\"D:\\Projects\\ATFS\\Backup\\restore_local.sql\"\n",
    "\n",
    "# Print connection details\n",
    "print(\"\\n--- SQL Server Restore Details ---\")\n",
    "print(f\"Server: {sql_server}\")\n",
    "print(f\"Authentication: SQL Login ({sql_user})\")\n",
    "print(f\"SQL Script: {sql_script}\")\n",
    "print(f\"Backup File: {backup_file}\")\n",
    "print(\"----------------------------------\\n\")\n",
    "\n",
    "# Test connection\n",
    "print(\"Testing connection to SQL Server...\")\n",
    "test_cmd = [\n",
    "    \"sqlcmd\",\n",
    "    \"-S\", sql_server,\n",
    "    \"-U\", sql_user,\n",
    "    \"-P\", sql_password,\n",
    "    \"-Q\", \"SELECT GETDATE();\"\n",
    "]\n",
    "\n",
    "try:\n",
    "    result = subprocess.run(test_cmd, shell=False, capture_output=True, text=True, timeout=10)\n",
    "    if result.returncode != 0:\n",
    "        print(\"❌ Failed to connect to SQL Server.\")\n",
    "        print(\"Error:\", result.stderr.strip())\n",
    "        input(\"Press Enter to exit...\")\n",
    "        raise SystemExit(1)\n",
    "    else:\n",
    "        print(\"✅ Connection successful.\\n\")\n",
    "except Exception as e:\n",
    "    print(f\"❌ Connection test failed: {e}\")\n",
    "    input(\"Press Enter to exit...\")\n",
    "    raise SystemExit(1)\n",
    "\n",
    "# Check if backup file exists\n",
    "if not os.path.exists(backup_file):\n",
    "    print(f\"❌ Backup file not found: {backup_file}\")\n",
    "else:\n",
    "    print(\"Restoring database...\\n\")\n",
    "\n",
    "    restore_cmd = [\n",
    "        \"sqlcmd\",\n",
    "        \"-S\", sql_server,\n",
    "        \"-U\", sql_user,\n",
    "        \"-P\", sql_password,\n",
    "        \"-i\", sql_script\n",
    "    ]\n",
    "\n",
    "    subprocess.run(restore_cmd, shell=False)\n",
    "\n",
    "    # Delete used backup files\n",
    "    for filename in [\"atfs.bak\", \"atfs_log.bak\"]:\n",
    "        try:\n",
    "            os.remove(os.path.join(backup_dir, filename))\n",
    "        except FileNotFoundError:\n",
    "            pass\n",
    "\n",
    "    # Delete wildcard matches\n",
    "    for file in glob.glob(os.path.join(backup_dir, \"atfs_gdb*.bak\")):\n",
    "        os.remove(file)\n",
    "\n",
    "# Pause before exit\n",
    "input(\"Press Enter to exit...\")\n"
   ],
   "metadata": {
    "collapsed": false,
    "ExecuteTime": {
     "end_time": "2025-04-08T22:10:11.799836Z",
     "start_time": "2025-04-08T22:10:02.665280Z"
    }
   },
   "id": "20b7d8140ffcc3db",
   "execution_count": 8
  },
  {
   "cell_type": "code",
   "outputs": [],
   "source": [],
   "metadata": {
    "collapsed": false
   },
   "id": "c3e7ae5b354e7649"
  }
 ],
 "metadata": {
  "kernelspec": {
   "display_name": "Python 3",
   "language": "python",
   "name": "python3"
  },
  "language_info": {
   "codemirror_mode": {
    "name": "ipython",
    "version": 2
   },
   "file_extension": ".py",
   "mimetype": "text/x-python",
   "name": "python",
   "nbconvert_exporter": "python",
   "pygments_lexer": "ipython2",
   "version": "2.7.6"
  }
 },
 "nbformat": 4,
 "nbformat_minor": 5
}
