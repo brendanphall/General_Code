{
 "cells": [
  {
   "cell_type": "code",
   "execution_count": null,
   "id": "initial_id",
   "metadata": {
    "collapsed": true
   },
   "outputs": [],
   "source": [
    ""
   ]
  },
  {
   "metadata": {},
   "cell_type": "code",
   "outputs": [],
   "execution_count": null,
   "source": [
    "import os\n",
    "import subprocess\n",
    "import time\n",
    "from pathlib import Path\n",
    "\n",
    "# Define paths\n",
    "backup_file = Path(r\"C:\\Users\\brendan.hall\\OneDrive - Sewall\\Projects\\ATFS\\_DB\\DB_Restore\\ATFS_Backups\\atfs.bak\")\n",
    "restore_script = Path(r\"C:\\Users\\brendan.hall\\OneDrive - Sewall\\Projects\\ATFS\\_DB\\DB_Restore\\DB Backup from Morgan\\restore_local.sql\")\n",
    "delete_paths = [\n",
    "    Path(r\"F:\\ATFS_Backups\\atfs.bak\"),\n",
    "    Path(r\"F:\\ATFS_Backups\\atfs_log.bak\")\n",
    "]\n",
    "\n",
    "# Add all gdb-related backups\n",
    "gdb_backups = Path(r\"F:\\ATFS_Backups\").glob(\"atfs_gdb*.bak\")\n",
    "delete_paths.extend(gdb_backups)\n",
    "\n",
    "def run_sqlcmd(script_path):\n",
    "    try:\n",
    "        print(\"Restoring database...\")\n",
    "        subprocess.run(\n",
    "            [\"sqlcmd\", \"-S\", \"localhost\\\\sqlexpress\", \"-E\", \"-i\", str(script_path)],\n",
    "            check=True\n",
    "        )\n",
    "    except subprocess.CalledProcessError as e:\n",
    "        print(\"Error restoring database:\", e)\n",
    "\n",
    "def delete_files(paths):\n",
    "    for path in paths:\n",
    "        try:\n",
    "            if path.exists():\n",
    "                path.unlink()\n",
    "                print(f\"Deleted: {path}\")\n",
    "        except Exception as e:\n",
    "            print(f\"Error deleting {path}: {e}\")\n",
    "\n",
    "def main():\n",
    "    if not backup_file.exists():\n",
    "        print(f\"{backup_file} file not found.\")\n",
    "    else:\n",
    "        # Uncomment these if you want to stop/start SQL service in Python (admin required)\n",
    "        # subprocess.run([\"net\", \"stop\", \"SQL Server (SQLEXPRESS)\"])\n",
    "        # subprocess.run([\"net\", \"start\", \"SQL Server (SQLEXPRESS)\"])\n",
    "\n",
    "        run_sqlcmd(restore_script)\n",
    "        time.sleep(1)  # Optional: simulate delay like `sleep 5`\n",
    "        delete_files(delete_paths)\n",
    "\n",
    "    input(\"Press Enter to continue...\")\n",
    "\n",
    "if __name__ == \"__main__\":\n",
    "    main()\n"
   ],
   "id": "3f284ee1e5217df4"
  }
 ],
 "metadata": {
  "kernelspec": {
   "display_name": "Python 3",
   "language": "python",
   "name": "python3"
  },
  "language_info": {
   "codemirror_mode": {
    "name": "ipython",
    "version": 2
   },
   "file_extension": ".py",
   "mimetype": "text/x-python",
   "name": "python",
   "nbconvert_exporter": "python",
   "pygments_lexer": "ipython2",
   "version": "2.7.6"
  }
 },
 "nbformat": 4,
 "nbformat_minor": 5
}
